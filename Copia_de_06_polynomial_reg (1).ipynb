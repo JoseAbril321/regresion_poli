{
  "cells": [
    {
      "cell_type": "markdown",
      "id": "a8397a98",
      "metadata": {
        "pycharm": {
          "name": "#%% md\n"
        },
        "id": "a8397a98"
      },
      "source": [
        " Lab: Polynomial Regression\n",
        "\n",
        "In this lab, you will extend the data structures and previously developed routines to support multiple features including polynomial features and  feature scaling.\n",
        "# Outline\n",
        "- [&nbsp;&nbsp;1.1 Goals](#toc_15456_1.1)\n",
        "- [&nbsp;&nbsp;1.2 Tools](#toc_15456_1.2)\n",
        "- [&nbsp;&nbsp;1.3 Notation](#toc_15456_1.3)\n",
        "- [2 Problem Statement](#toc_15456_2)\n",
        "- [&nbsp;&nbsp;2.1 Matrix X containing our examples](#toc_15456_2.1)\n",
        "- [&nbsp;&nbsp;2.2 Parameter vector w, b](#toc_15456_2.2)\n",
        "- [3 Model Prediction With Multiple Variables](#toc_15456_3)\n",
        "- [&nbsp;&nbsp;3.1 Single Prediction element by element](#toc_15456_3.1)\n",
        "- [&nbsp;&nbsp;3.2 Single Prediction, vector](#toc_15456_3.2)\n",
        "- [4 Compute Cost With Multiple Variables](#toc_15456_4)\n",
        "- [5 Gradient Descent With Multiple Variables](#toc_15456_5)\n",
        "- [&nbsp;&nbsp;5.1 Compute Gradient with Multiple Variables](#toc_15456_5.1)\n",
        "- [&nbsp;&nbsp;5.2 Gradient Descent With Multiple Variables](#toc_15456_5.2)\n",
        "- [6 Congratulations](#toc_15456_6)\n"
      ]
    },
    {
      "cell_type": "markdown",
      "id": "1ae3ed16",
      "metadata": {
        "pycharm": {
          "name": "#%% md\n"
        },
        "id": "1ae3ed16"
      },
      "source": [
        "<a name=\"toc_15456_1.1\"></a>\n",
        "## 1.1 Goals\n",
        "- Extend our regression model  routines to support multiple features\n",
        "    - Extend data structures to support multiple features\n",
        "    - Rewrite prediction, cost and gradient routines to support multiple features\n",
        "    - Utilize NumPy `np.dot` to vectorize their implementations for speed and simplicity"
      ]
    },
    {
      "cell_type": "markdown",
      "id": "15003c4e",
      "metadata": {
        "pycharm": {
          "name": "#%% md\n"
        },
        "id": "15003c4e"
      },
      "source": [
        "<a name=\"toc_15456_1.2\"></a>\n",
        "## 1.2 Tools\n",
        "In this lab, we will make use of:\n",
        "- NumPy, a popular library for scientific computing\n",
        "- Matplotlib, a popular library for plotting data"
      ]
    },
    {
      "cell_type": "code",
      "execution_count": null,
      "id": "5c40e068",
      "metadata": {
        "pycharm": {
          "name": "#%%\n"
        },
        "id": "5c40e068"
      },
      "outputs": [],
      "source": [
        "import copy, math\n",
        "import numpy as np\n",
        "import matplotlib.pyplot as plt\n",
        "plt.style.use('https://raw.githubusercontent.com/greyhatguy007/Machine-Learning-Specialization-Coursera/refs/heads/main/C1%20-%20Supervised%20Machine%20Learning%20-%20Regression%20and%20Classification/week2/Optional%20Labs/deeplearning.mplstyle')\n",
        "np.set_printoptions(precision=2)  # reduced display precision on numpy arrays"
      ]
    },
    {
      "cell_type": "markdown",
      "id": "50111368",
      "metadata": {
        "pycharm": {
          "name": "#%% md\n"
        },
        "id": "50111368"
      },
      "source": [
        "<a name=\"toc_15456_1.3\"></a>\n",
        "## 1.3 Notation\n",
        "Here is a summary of some of the notation you will encounter, updated for multiple features.\n",
        "\n",
        "| General Notation | Description | Python (if applicable) |\n",
        "|:----------------:|:-----------:|:----------------------:|\n",
        "|      $a$         | scalar, non-bold | |\n",
        "|  $\\mathbf{a}$   | vector, bold | |\n",
        "|  $\\mathbf{A}$   | matrix, bold capital | |\n",
        "| **Regression** | | |\n",
        "|  $\\mathbf{X}$   | training example matrix | `X_train` |\n",
        "|  $\\mathbf{y}$   | training example targets | `y_train` |\n",
        "| $\\mathbf{x}^{(i)}$, $y^{(i)}$ | $i_{th}$ Training Example | `X[i]`, `y[i]` |\n",
        "|        $m$       | number of training examples | `m` |\n",
        "|        $n$       | number of features in each example | `n` |\n",
        "|  $\\mathbf{w}$   | parameter: weight | `w` |\n",
        "|        $b$       | parameter: bias | `b` |\n",
        "| $f_{\\mathbf{w},b}(\\mathbf{x}^{(i)})$ | The result model evaluation at $\\mathbf{x}^{(i)}$ parameterized by $\\mathbf{w},b$: $f_{\\mathbf{w},b}(\\mathbf{x}^{(i)}) = \\mathbf{w} \\cdot \\mathbf{x}^{(i)}+b$ | `f_wb` |\n",
        "\n"
      ]
    },
    {
      "cell_type": "markdown",
      "id": "b5494961",
      "metadata": {
        "pycharm": {
          "name": "#%% md\n"
        },
        "id": "b5494961"
      },
      "source": [
        "<a name=\"toc_15456_2\"></a>\n",
        "# 2 Problem Statement\n",
        "\n",
        "You will use the motivating example of housing price prediction. The training dataset contains three examples with four features (size, bedrooms, floors and, age) shown in the table below.  Note that, unlike the earlier labs, size is in sqft rather than 1000 sqft. This causes an issue, which you will solve in the next lab!\n",
        "\n",
        "| Size (sqft) | Number of Bedrooms  | Number of floors | Age of  Home | Price (1000s dollars)  |   \n",
        "| ----------------| ------------------- |----------------- |--------------|-------------- |  \n",
        "| 2104            | 5                   | 1                | 45           | 460           |  \n",
        "| 1416            | 3                   | 2                | 40           | 232           |  \n",
        "| 852             | 2                   | 1                | 35           | 178           |  \n",
        "\n",
        "You will build a linear regression model using these values so you can then predict the price for other houses. For example, a house with 1200 sqft, 3 bedrooms, 1 floor, 40 years old.  \n",
        "\n",
        "Please run the following code cell to create your `X_train` and `y_train` variables."
      ]
    },
    {
      "cell_type": "code",
      "execution_count": null,
      "id": "c2475e43",
      "metadata": {
        "pycharm": {
          "name": "#%%\n"
        },
        "id": "c2475e43"
      },
      "outputs": [],
      "source": [
        "X_train = np.array([[2104, 5, 1, 45], [1416, 3, 2, 40], [852, 2, 1, 35]])\n",
        "y_train = np.array([460, 232, 178])"
      ]
    },
    {
      "cell_type": "markdown",
      "id": "31ca6f7f",
      "metadata": {
        "pycharm": {
          "name": "#%% md\n"
        },
        "id": "31ca6f7f"
      },
      "source": [
        "<a name=\"toc_15456_2.1\"></a>\n",
        "## 2.1 Matrix X containing our examples\n",
        "Similar to the table above, examples are stored in a NumPy matrix `X_train`. Each row of the matrix represents one example. When you have $m$ training examples ( $m$ is three in our example), and there are $n$ features (four in our example), $\\mathbf{X}$ is a matrix with dimensions ($m$, $n$) (m rows, n columns).\n",
        "\n",
        "\n",
        "$$\\mathbf{X} =\n",
        "\\begin{pmatrix}\n",
        " x^{(0)}_0 & x^{(0)}_1 & \\cdots & x^{(0)}_{n-1} \\\\\n",
        " x^{(1)}_0 & x^{(1)}_1 & \\cdots & x^{(1)}_{n-1} \\\\\n",
        " \\cdots \\\\\n",
        " x^{(m-1)}_0 & x^{(m-1)}_1 & \\cdots & x^{(m-1)}_{n-1}\n",
        "\\end{pmatrix}\n",
        "$$\n",
        "notation:\n",
        "- $\\mathbf{x}^{(i)}$ is vector containing example i. $\\mathbf{x}^{(i)}$ $ = (x^{(i)}_0, x^{(i)}_1, \\cdots,x^{(i)}_{n-1})$\n",
        "- $x^{(i)}_j$ is element j in example i. The superscript in parenthesis indicates the example number while the subscript represents an element.  \n",
        "\n",
        "Display the input data."
      ]
    },
    {
      "cell_type": "code",
      "execution_count": null,
      "id": "5d04e40c",
      "metadata": {
        "pycharm": {
          "name": "#%%\n"
        },
        "id": "5d04e40c",
        "outputId": "075bdf6f-e3f8-48cc-8490-acf5f9a98cc0",
        "colab": {
          "base_uri": "https://localhost:8080/"
        }
      },
      "outputs": [
        {
          "output_type": "stream",
          "name": "stdout",
          "text": [
            "X Shape: (3, 4), X Type:<class 'numpy.ndarray'>)\n",
            "[[2104    5    1   45]\n",
            " [1416    3    2   40]\n",
            " [ 852    2    1   35]]\n",
            "y Shape: (3,), y Type:<class 'numpy.ndarray'>)\n",
            "[460 232 178]\n"
          ]
        }
      ],
      "source": [
        "# data is stored in numpy array/matrix\n",
        "print(f\"X Shape: {X_train.shape}, X Type:{type(X_train)})\")\n",
        "print(X_train)\n",
        "print(f\"y Shape: {y_train.shape}, y Type:{type(y_train)})\")\n",
        "print(y_train)"
      ]
    },
    {
      "cell_type": "markdown",
      "source": [
        "## 2.1.1 Pre-processing\n",
        "\n",
        "In this  section we do pre-processing, we will add new features so the number of features \"n\" increases, we will do:\n",
        "* Polynomial features: for every input variable add at least 1 additional polynomial feature\n",
        "* Perform feature scaling(any method you wish)\n",
        "\n",
        "*NOTE*: the resulting dataset has to be assigned to the same variable X_train"
      ],
      "metadata": {
        "id": "7RLfu3Z_u0Bh"
      },
      "id": "7RLfu3Z_u0Bh"
    },
    {
      "cell_type": "markdown",
      "source": [
        "**Polynomial features:**"
      ],
      "metadata": {
        "id": "v7wya4d8vbHP"
      },
      "id": "v7wya4d8vbHP"
    },
    {
      "cell_type": "code",
      "source": [
        "# YOUR CODE HERE\n",
        "from sklearn.preprocessing import PolynomialFeatures\n",
        "\n",
        "x_temp_train = X_train.copy()\n",
        "x_temp_train = PolynomialFeatures(degree=2, include_bias=False).fit_transform(x_temp_train)\n",
        "print(x_temp_train)\n",
        "X_train = x_temp_train"
      ],
      "metadata": {
        "id": "emy4D0DauvmH",
        "colab": {
          "base_uri": "https://localhost:8080/"
        },
        "outputId": "2ee79d1e-8310-4dc4-9786-ddfaf8d3174c"
      },
      "id": "emy4D0DauvmH",
      "execution_count": null,
      "outputs": [
        {
          "output_type": "stream",
          "name": "stdout",
          "text": [
            "[[2.10e+03 5.00e+00 1.00e+00 4.50e+01 4.43e+06 1.05e+04 2.10e+03 9.47e+04\n",
            "  2.50e+01 5.00e+00 2.25e+02 1.00e+00 4.50e+01 2.02e+03]\n",
            " [1.42e+03 3.00e+00 2.00e+00 4.00e+01 2.01e+06 4.25e+03 2.83e+03 5.66e+04\n",
            "  9.00e+00 6.00e+00 1.20e+02 4.00e+00 8.00e+01 1.60e+03]\n",
            " [8.52e+02 2.00e+00 1.00e+00 3.50e+01 7.26e+05 1.70e+03 8.52e+02 2.98e+04\n",
            "  4.00e+00 2.00e+00 7.00e+01 1.00e+00 3.50e+01 1.22e+03]]\n"
          ]
        }
      ]
    },
    {
      "cell_type": "markdown",
      "source": [
        "**Feature scaling:**"
      ],
      "metadata": {
        "id": "FseZaRPWvm_Z"
      },
      "id": "FseZaRPWvm_Z"
    },
    {
      "cell_type": "code",
      "source": [
        "# YOUR CODE HERE\n",
        "from sklearn.preprocessing import StandardScaler\n",
        "\n",
        "x_temp_train = X_train.copy()\n",
        "x_temp_train = StandardScaler().fit_transform(x_temp_train)\n",
        "print(x_temp_train)\n",
        "X_train = x_temp_train"
      ],
      "metadata": {
        "id": "b8pd6yK4vrac",
        "colab": {
          "base_uri": "https://localhost:8080/"
        },
        "outputId": "0f34f658-063d-43eb-a2b5-159630d5bef1"
      },
      "id": "b8pd6yK4vrac",
      "execution_count": null,
      "outputs": [
        {
          "output_type": "stream",
          "name": "stdout",
          "text": [
            "[[ 1.26  1.34 -0.71  1.22  1.33  1.36  0.21  1.29  1.38  0.39  1.34 -0.71\n",
            "  -0.43  1.25]\n",
            " [-0.08 -0.27  1.41  0.   -0.25 -0.34  1.1  -0.14 -0.41  0.98 -0.28  1.41\n",
            "   1.38 -0.05]\n",
            " [-1.18 -1.07 -0.71 -1.22 -1.08 -1.02 -1.32 -1.15 -0.97 -1.37 -1.06 -0.71\n",
            "  -0.95 -1.2 ]]\n"
          ]
        }
      ]
    },
    {
      "cell_type": "markdown",
      "id": "edf11b90",
      "metadata": {
        "pycharm": {
          "name": "#%% md\n"
        },
        "id": "edf11b90"
      },
      "source": [
        "<a name=\"toc_15456_2.2\"></a>\n",
        "## 2.2 Parameter vector w, b\n",
        "\n",
        "* $\\mathbf{w}$ is a vector with $n$ elements.\n",
        "  - Each element contains the parameter associated with one feature.\n",
        "  - notionally, we draw this as a column vector\n",
        "\n",
        "$$\\mathbf{w} = \\begin{pmatrix}\n",
        "w_0 \\\\\n",
        "w_1 \\\\\n",
        "\\cdots\\\\\n",
        "w_{n-1}\n",
        "\\end{pmatrix}\n",
        "$$\n",
        "* $b$ is a scalar parameter.  "
      ]
    },
    {
      "cell_type": "markdown",
      "id": "f9a2f0c4",
      "metadata": {
        "pycharm": {
          "name": "#%% md\n"
        },
        "id": "f9a2f0c4"
      },
      "source": [
        "For demonstration, $\\mathbf{w}$ and $b$ will be loaded with some initial selected values(0 and random values). $\\mathbf{w}$ is a 1-D NumPy vector."
      ]
    },
    {
      "cell_type": "code",
      "execution_count": null,
      "id": "6b7cefc9",
      "metadata": {
        "pycharm": {
          "name": "#%%\n"
        },
        "id": "6b7cefc9",
        "outputId": "8e2298ae-3c41-43d9-cfb8-82b3a1371653",
        "colab": {
          "base_uri": "https://localhost:8080/"
        }
      },
      "outputs": [
        {
          "output_type": "stream",
          "name": "stdout",
          "text": [
            "w_init shape: (14,), b_init type: <class 'int'>\n"
          ]
        }
      ],
      "source": [
        "n = X_train.shape[1] # the number of features(columns)\n",
        "b_init = 0\n",
        "w_init  = np.random.normal(loc=0.0, scale=1.0, size=n)\n",
        "print(f\"w_init shape: {w_init.shape}, b_init type: {type(b_init)}\")"
      ]
    },
    {
      "cell_type": "markdown",
      "id": "ae210bb9",
      "metadata": {
        "pycharm": {
          "name": "#%% md\n"
        },
        "id": "ae210bb9"
      },
      "source": [
        "<a name=\"toc_15456_3\"></a>\n",
        "# 3 Model Prediction With Multiple Variables\n",
        "The model's prediction with multiple variables is given by the linear model:\n",
        "\n",
        "$$ f_{\\mathbf{w},b}(\\mathbf{x}) =  w_0x_0 + w_1x_1 +... + w_{n-1}x_{n-1} + b \\tag{1}$$\n",
        "or in vector notation:\n",
        "$$ f_{\\mathbf{w},b}(\\mathbf{x}) = \\mathbf{w} \\cdot \\mathbf{x} + b  \\tag{2} $$\n",
        "where $\\cdot$ is a vector `dot product`\n",
        "\n",
        "To demonstrate the dot product, we will implement prediction using (1) and (2)."
      ]
    },
    {
      "cell_type": "markdown",
      "id": "2feb076d",
      "metadata": {
        "pycharm": {
          "name": "#%% md\n"
        },
        "id": "2feb076d"
      },
      "source": [
        "<a name=\"toc_15456_3.1\"></a>\n",
        "## 3.1 Single Prediction element by element\n",
        "This example function implements a prediction method for a  single observation(single house) using a loop to iterate over the features and parameters.\n",
        "\n",
        "This is NON-VECTORIZED code\n"
      ]
    },
    {
      "cell_type": "code",
      "execution_count": null,
      "id": "27678037",
      "metadata": {
        "pycharm": {
          "name": "#%%\n"
        },
        "id": "27678037"
      },
      "outputs": [],
      "source": [
        "def predict_single_loop(x, w, b):\n",
        "    \"\"\"\n",
        "    single predict using linear regression\n",
        "\n",
        "    Args:\n",
        "      x (ndarray): Shape (n,) example with multiple features\n",
        "      w (ndarray): Shape (n,) model parameters\n",
        "      b (scalar):  model parameter\n",
        "\n",
        "    Returns:\n",
        "      p (scalar):  prediction\n",
        "    \"\"\"\n",
        "    n = x.shape[0]\n",
        "    p = 0\n",
        "    for i in range(n):\n",
        "        p_i = x[i] * w[i]\n",
        "        p = p + p_i\n",
        "    p = p + b\n",
        "    return p"
      ]
    },
    {
      "cell_type": "code",
      "execution_count": null,
      "id": "816e2696",
      "metadata": {
        "pycharm": {
          "name": "#%%\n"
        },
        "id": "816e2696",
        "outputId": "8ab0519f-35c5-406c-8e27-3355d4f4f719",
        "colab": {
          "base_uri": "https://localhost:8080/"
        }
      },
      "outputs": [
        {
          "output_type": "stream",
          "name": "stdout",
          "text": [
            "x_vec shape (14,), x_vec value: [ 1.26  1.34 -0.71  1.22  1.33  1.36  0.21  1.29  1.38  0.39  1.34 -0.71\n",
            " -0.43  1.25]\n",
            "f_wb shape (), prediction: 12.201674639454135\n"
          ]
        }
      ],
      "source": [
        "# get a row from our training data\n",
        "x_vec = X_train[0,:]\n",
        "print(f\"x_vec shape {x_vec.shape}, x_vec value: {x_vec}\")\n",
        "\n",
        "# make a prediction\n",
        "f_wb = predict_single_loop(x_vec, w_init, b_init)\n",
        "print(f\"f_wb shape {f_wb.shape}, prediction: {f_wb}\")"
      ]
    },
    {
      "cell_type": "markdown",
      "id": "af8cc06e",
      "metadata": {
        "pycharm": {
          "name": "#%% md\n"
        },
        "id": "af8cc06e"
      },
      "source": [
        "Note the shape of `x_vec`. It is a 1-D NumPy vector with 4 elements, (4,). The result, `f_wb` is a scalar."
      ]
    },
    {
      "cell_type": "markdown",
      "id": "67793119",
      "metadata": {
        "pycharm": {
          "name": "#%% md\n"
        },
        "id": "67793119"
      },
      "source": [
        "<a name=\"toc_15456_3.2\"></a>\n",
        "## 3.2 Single Prediction, vector\n",
        "\n",
        "Noting that equation (1) above can be implemented using the dot product as in (2) above. We can make use of vector operations to speed up predictions.\n",
        "\n",
        "Recall from the Python/Numpy lab that NumPy `np.dot()`[[link](https://numpy.org/doc/stable/reference/generated/numpy.dot.html)] can be used to perform a vector dot product.\n",
        "\n",
        "This code runs a prediction for a single house given the features of the house."
      ]
    },
    {
      "cell_type": "code",
      "execution_count": null,
      "id": "5d9f441e",
      "metadata": {
        "pycharm": {
          "name": "#%%\n"
        },
        "id": "5d9f441e"
      },
      "outputs": [],
      "source": [
        "def predict(x, w, b):\n",
        "    \"\"\"\n",
        "    single predict using linear regression\n",
        "    Args:\n",
        "      x (ndarray): Shape (n,) example with multiple features\n",
        "      w (ndarray): Shape (n,) model parameters\n",
        "      b (scalar):             model parameter\n",
        "\n",
        "    Returns:\n",
        "      p (scalar):  prediction\n",
        "    \"\"\"\n",
        "    p = np.dot(x, w) + b\n",
        "    return p"
      ]
    },
    {
      "cell_type": "code",
      "execution_count": null,
      "id": "3e1fe583",
      "metadata": {
        "pycharm": {
          "name": "#%%\n"
        },
        "id": "3e1fe583",
        "outputId": "7c6f9190-c808-4760-d161-70899adeb1f6",
        "colab": {
          "base_uri": "https://localhost:8080/"
        }
      },
      "outputs": [
        {
          "output_type": "stream",
          "name": "stdout",
          "text": [
            "x_vec shape (14,), x_vec value: [ 1.26  1.34 -0.71  1.22  1.33  1.36  0.21  1.29  1.38  0.39  1.34 -0.71\n",
            " -0.43  1.25]\n",
            "f_wb shape (), prediction: 12.201674639454135\n"
          ]
        }
      ],
      "source": [
        "# get a row from our training data\n",
        "x_vec = X_train[0,:]\n",
        "print(f\"x_vec shape {x_vec.shape}, x_vec value: {x_vec}\")\n",
        "\n",
        "# make a prediction\n",
        "f_wb = predict(x_vec,w_init, b_init)\n",
        "print(f\"f_wb shape {f_wb.shape}, prediction: {f_wb}\")"
      ]
    },
    {
      "cell_type": "markdown",
      "id": "51e18ca2",
      "metadata": {
        "pycharm": {
          "name": "#%% md\n"
        },
        "id": "51e18ca2"
      },
      "source": [
        "The results and shapes are the same as the previous version which used looping. Going forward, `np.dot` will be used for these operations. The prediction is now a single statement. Most routines will implement it directly rather than calling a separate predict routine."
      ]
    },
    {
      "cell_type": "markdown",
      "source": [
        "## 3.3 Practice: Implement a predict function to predict the price of all houses in the dataset simultaneously using vectorized code.\n",
        "\n",
        "\n",
        "\n",
        "*   You cannot use loops\n",
        "*   Your input is the X_train matrix and returns a vector of predictions\n",
        "\n",
        "**Tips**:\n",
        "* Use the fact that matrix multiplication between 2 matrices matmul(A,B) is a collection of dot products between the rows of matrix A an colums of matrix B\n",
        "  <img src=\"https://upload.wikimedia.org/wikipedia/commons/8/86/Matrix_multiplication_.gif\">\n",
        "* The parameters vector can be considered a matrix of n rows and 1 column\n",
        "* Use matmul: https://numpy.org/doc/2.2/reference/generated/numpy.matmul.html\n",
        "\n"
      ],
      "metadata": {
        "id": "NzYHA9VpzfUw"
      },
      "id": "NzYHA9VpzfUw"
    },
    {
      "cell_type": "code",
      "source": [
        "def predict_all(X, w, b):\n",
        "  \"\"\"\n",
        "  Returns a vector of size m=number of rows in X\n",
        "  \"\"\"\n",
        "  # YOUR CODE HERE\n",
        "  return np.dot(X, w) + b"
      ],
      "metadata": {
        "id": "Uy8yCq0a0z8L"
      },
      "id": "Uy8yCq0a0z8L",
      "execution_count": null,
      "outputs": []
    },
    {
      "cell_type": "code",
      "source": [
        "predictions = predict_all(X_train,w_init, b_init)\n",
        "print(f\"predictions shape {predictions.shape}, predictions: {predictions}\")"
      ],
      "metadata": {
        "id": "9uyNTwqs1Qwx",
        "colab": {
          "base_uri": "https://localhost:8080/"
        },
        "outputId": "9772446a-4f55-40ce-b6c1-67f17f71392c"
      },
      "id": "9uyNTwqs1Qwx",
      "execution_count": null,
      "outputs": [
        {
          "output_type": "stream",
          "name": "stdout",
          "text": [
            "predictions shape (3,), predictions: [12.2  -2.43 -9.77]\n"
          ]
        }
      ]
    },
    {
      "cell_type": "markdown",
      "id": "49051059",
      "metadata": {
        "pycharm": {
          "name": "#%% md\n"
        },
        "id": "49051059"
      },
      "source": [
        "<a name=\"toc_15456_4\"></a>\n",
        "# 4 Compute Cost With Multiple Variables\n",
        "The equation for the cost function with multiple variables $J(\\mathbf{w},b)$ is:\n",
        "$$J(\\mathbf{w},b) = \\frac{1}{2m} \\sum\\limits_{i = 0}^{m-1} (f_{\\mathbf{w},b}(\\mathbf{x}^{(i)}) - y^{(i)})^2 \\tag{3}$$\n",
        "where:\n",
        "$$ f_{\\mathbf{w},b}(\\mathbf{x}^{(i)}) = \\mathbf{w} \\cdot \\mathbf{x}^{(i)} + b  \\tag{4} $$\n",
        "\n",
        "\n",
        "In contrast to previous labs, $\\mathbf{w}$ and $\\mathbf{x}^{(i)}$ are vectors rather than scalars supporting multiple features."
      ]
    },
    {
      "cell_type": "markdown",
      "id": "e5a93e78",
      "metadata": {
        "pycharm": {
          "name": "#%% md\n"
        },
        "id": "e5a93e78"
      },
      "source": [
        "Below is an implementation of equations (3) and (4). Note that this uses a *non vectorized pattern* where a for loop over all `m` examples is used to claculate the cost per house and accumulate it, in the next exercise you will implement an equivalent version fully vectorized(removing the loop)"
      ]
    },
    {
      "cell_type": "code",
      "execution_count": null,
      "id": "12976173",
      "metadata": {
        "pycharm": {
          "name": "#%%\n"
        },
        "id": "12976173"
      },
      "outputs": [],
      "source": [
        "def compute_cost(X, y, w, b):\n",
        "    \"\"\"\n",
        "    compute cost\n",
        "    Args:\n",
        "      X (ndarray (m,n)): Data, m examples with n features\n",
        "      y (ndarray (m,)) : target values\n",
        "      w (ndarray (n,)) : model parameters\n",
        "      b (scalar)       : model parameter\n",
        "\n",
        "    Returns:\n",
        "      cost (scalar): cost\n",
        "    \"\"\"\n",
        "    m = X.shape[0]\n",
        "    cost = 0.0\n",
        "    for i in range(m):\n",
        "        f_wb_i = np.dot(X[i], w) + b           #(n,)(n,) = scalar (see np.dot)\n",
        "        cost = cost + (f_wb_i - y[i])**2       #scalar\n",
        "    cost = cost / (2 * m)                      #scalar\n",
        "    return cost"
      ]
    },
    {
      "cell_type": "code",
      "execution_count": null,
      "id": "a4641c44",
      "metadata": {
        "pycharm": {
          "name": "#%%\n"
        },
        "id": "a4641c44",
        "outputId": "d37d51df-aac9-4f8f-948d-a7e002279a91",
        "colab": {
          "base_uri": "https://localhost:8080/"
        }
      },
      "outputs": [
        {
          "output_type": "stream",
          "name": "stdout",
          "text": [
            "Cost at initial w : 48456.54092636011\n"
          ]
        }
      ],
      "source": [
        "# Compute and display cost using our pre-chosen optimal parameters.\n",
        "cost = compute_cost(X_train, y_train, w_init, b_init)\n",
        "print(f'Cost at initial w : {cost}')"
      ]
    },
    {
      "cell_type": "markdown",
      "source": [
        "## 4.1 Practice: Implement a fully vectorized cost function for all houses simultaneously.\n",
        "\n",
        "In this section you implement the cost function using only vectorized code.\n",
        "\n",
        "* You cannot use a loop.\n",
        "* You calculate the vector of predictions using the predict_all function created previously\n",
        "* You use vector of real y values\n",
        "* You use numpy vectorized operations such as np.mean\n"
      ],
      "metadata": {
        "id": "VcL9hth63JeX"
      },
      "id": "VcL9hth63JeX"
    },
    {
      "cell_type": "code",
      "source": [
        "def compute_cost_vectorized(X, y, w, b):\n",
        "  # YOUR CODE HERE\n",
        "  return np.mean((predict_all(X, w, b) - y)**2)/2"
      ],
      "metadata": {
        "id": "5I4EKzeg39L0"
      },
      "id": "5I4EKzeg39L0",
      "execution_count": null,
      "outputs": []
    },
    {
      "cell_type": "code",
      "source": [
        "# Compute and display cost using our pre-chosen optimal parameters.\n",
        "cost = compute_cost_vectorized(X_train, y_train, w_init, b_init)\n",
        "print(f'Cost at initial w : {cost}')"
      ],
      "metadata": {
        "id": "KL52uyWf4HcO",
        "colab": {
          "base_uri": "https://localhost:8080/"
        },
        "outputId": "344e01c4-f3d5-47de-c170-581c80664a6b"
      },
      "id": "KL52uyWf4HcO",
      "execution_count": null,
      "outputs": [
        {
          "output_type": "stream",
          "name": "stdout",
          "text": [
            "Cost at initial w : 48456.54092636011\n"
          ]
        }
      ]
    },
    {
      "cell_type": "markdown",
      "id": "42d69d8b",
      "metadata": {
        "pycharm": {
          "name": "#%% md\n"
        },
        "id": "42d69d8b"
      },
      "source": [
        "<a name=\"toc_15456_5\"></a>\n",
        "# 5 Gradient Descent With Multiple Variables\n",
        "Gradient descent for multiple variables:\n",
        "\n",
        "$$\\begin{align*} \\text{repeat}&\\text{ until convergence:} \\; \\lbrace \\newline\\;\n",
        "& w_j = w_j -  \\alpha \\frac{\\partial J(\\mathbf{w},b)}{\\partial w_j} \\tag{5}  \\; & \\text{for j = 0..n-1}\\newline\n",
        "&b\\ \\ = b -  \\alpha \\frac{\\partial J(\\mathbf{w},b)}{\\partial b}  \\newline \\rbrace\n",
        "\\end{align*}$$\n",
        "\n",
        "where, n is the number of features, parameters $w_j$,  $b$, are updated simultaneously and where  \n",
        "\n",
        "$$\n",
        "\\begin{align}\n",
        "\\frac{\\partial J(\\mathbf{w},b)}{\\partial w_j}  &= \\frac{1}{m} \\sum\\limits_{i = 0}^{m-1} (f_{\\mathbf{w},b}(\\mathbf{x}^{(i)}) - y^{(i)})x_{j}^{(i)} \\tag{6}  \\\\\n",
        "\\frac{\\partial J(\\mathbf{w},b)}{\\partial b}  &= \\frac{1}{m} \\sum\\limits_{i = 0}^{m-1} (f_{\\mathbf{w},b}(\\mathbf{x}^{(i)}) - y^{(i)}) \\tag{7}\n",
        "\\end{align}\n",
        "$$\n",
        "* m is the number of training examples in the data set\n",
        "\n",
        "    \n",
        "*  $f_{\\mathbf{w},b}(\\mathbf{x}^{(i)})$ is the model's prediction, while $y^{(i)}$ is the target value\n"
      ]
    },
    {
      "cell_type": "markdown",
      "id": "a6d33f60",
      "metadata": {
        "pycharm": {
          "name": "#%% md\n"
        },
        "id": "a6d33f60"
      },
      "source": [
        "<a name=\"toc_15456_5.1\"></a>\n",
        "## 5.1 Compute Gradient with Multiple Variables\n",
        "An implementation for calculating the equations (6) and (7) is below. There are many ways to implement this. In this version, there is an\n",
        "- outer loop over all m examples.\n",
        "    - $\\frac{\\partial J(\\mathbf{w},b)}{\\partial b}$ for the example can be computed directly and accumulated\n",
        "    - in a second loop over all n features:\n",
        "        - $\\frac{\\partial J(\\mathbf{w},b)}{\\partial w_j}$ is computed for each $w_j$.\n",
        "   \n",
        "\n",
        "In the following section you will implement an equivalent fully vectorized version of it"
      ]
    },
    {
      "cell_type": "code",
      "execution_count": null,
      "id": "5a380261",
      "metadata": {
        "pycharm": {
          "name": "#%%\n"
        },
        "id": "5a380261"
      },
      "outputs": [],
      "source": [
        "def compute_gradient(X, y, w, b):\n",
        "    \"\"\"\n",
        "    Computes the gradient for linear regression\n",
        "    Args:\n",
        "      X (ndarray (m,n)): Data, m examples with n features\n",
        "      y (ndarray (m,)) : target values\n",
        "      w (ndarray (n,)) : model parameters\n",
        "      b (scalar)       : model parameter\n",
        "\n",
        "    Returns:\n",
        "      dj_dw (ndarray (n,)): The gradient of the cost w.r.t. the parameters w.\n",
        "      dj_db (scalar):       The gradient of the cost w.r.t. the parameter b.\n",
        "    \"\"\"\n",
        "    m,n = X.shape           #(number of examples, number of features)\n",
        "    dj_dw = np.zeros((n,))\n",
        "    dj_db = 0.\n",
        "\n",
        "    for i in range(m):\n",
        "        err = (np.dot(X[i], w) + b) - y[i]\n",
        "        for j in range(n):\n",
        "            dj_dw[j] = dj_dw[j] + err * X[i, j]\n",
        "        dj_db = dj_db + err\n",
        "    dj_dw = dj_dw / m\n",
        "    dj_db = dj_db / m\n",
        "\n",
        "    return dj_db, dj_dw"
      ]
    },
    {
      "cell_type": "code",
      "execution_count": null,
      "id": "3c0a185f",
      "metadata": {
        "pycharm": {
          "name": "#%%\n"
        },
        "id": "3c0a185f",
        "outputId": "1a40fb3c-478a-4751-f4a2-ddf8d621750c",
        "colab": {
          "base_uri": "https://localhost:8080/"
        }
      },
      "outputs": [
        {
          "output_type": "stream",
          "name": "stdout",
          "text": [
            "dj_db at initial w,b: -290.0\n",
            "dj_dw at initial w,b: \n",
            " [-108.23 -111.67   39.29 -106.16 -111.4  -112.45  -35.69 -109.54 -112.99\n",
            "  -49.25 -111.88   39.29   15.94 -107.5 ]\n"
          ]
        }
      ],
      "source": [
        "#Compute and display gradient\n",
        "tmp_dj_db, tmp_dj_dw = compute_gradient(X_train, y_train, w_init, b_init)\n",
        "print(f'dj_db at initial w,b: {tmp_dj_db}')\n",
        "print(f'dj_dw at initial w,b: \\n {tmp_dj_dw}')"
      ]
    },
    {
      "cell_type": "code",
      "source": [
        "def vectorized_compute_gradient(X, y, w, b):\n",
        "    \"\"\"\n",
        "    Computes the gradient for linear regression\n",
        "    Args:\n",
        "      X (ndarray (m,n)): Data, m examples with n features\n",
        "      y (ndarray (m,)) : target values\n",
        "      w (ndarray (n,)) : model parameters\n",
        "      b (scalar)       : model parameter\n",
        "\n",
        "    Returns:\n",
        "      dj_dw (ndarray (n,)): The gradient of the cost w.r.t. the parameters w.\n",
        "      dj_db (scalar):       The gradient of the cost w.r.t. the parameter b.\n",
        "    \"\"\"\n",
        "    m,n = X.shape           #(number of examples, number of features)\n",
        "    # your c\n",
        "    dj_dw = np.dot(X.T, predict_all(X, w, b) - y)/m\n",
        "    dj_db = np.sum(predict_all(X, w, b) - y)/m\n",
        "    return dj_db, dj_dw"
      ],
      "metadata": {
        "id": "FBEdPKI4DRd9"
      },
      "id": "FBEdPKI4DRd9",
      "execution_count": null,
      "outputs": []
    },
    {
      "cell_type": "code",
      "source": [
        "tmp_dj_db, tmp_dj_dw = vectorized_compute_gradient(X_train, y_train, w_init, b_init)\n",
        "print(f'dj_db at initial w,b: {tmp_dj_db}')\n",
        "print(f'dj_dw at initial w,b: \\n {tmp_dj_dw}')"
      ],
      "metadata": {
        "colab": {
          "base_uri": "https://localhost:8080/"
        },
        "id": "O5njcj92qzTC",
        "outputId": "3bab259c-5979-438f-a6cc-1e96b0243933"
      },
      "id": "O5njcj92qzTC",
      "execution_count": null,
      "outputs": [
        {
          "output_type": "stream",
          "name": "stdout",
          "text": [
            "dj_db at initial w,b: -290.0\n",
            "dj_dw at initial w,b: \n",
            " [-108.23 -111.67   39.29 -106.16 -111.4  -112.45  -35.69 -109.54 -112.99\n",
            "  -49.25 -111.88   39.29   15.94 -107.5 ]\n"
          ]
        }
      ]
    },
    {
      "cell_type": "markdown",
      "source": [
        "## 5.2 Practice: Implement a fully vectorized gradient computation\n",
        "\n",
        "In this section you implement a fully vectorized gradient computation.\n",
        "\n",
        "* You can't use loops\n",
        "\n",
        "\n",
        "Tips:\n",
        "\n",
        "* You can use \"*\" to multiply the columns of a matrix by a vector(if they have the same size) leveraring \"broadcasting\"\n",
        "* you can use the parameter axis when passing matrices to numpy functions to decide if the operation will be performed at row or column level\n",
        "<img src=\"https://anakarinarm.github.io/python-novice-inflammation-2016-09-20-ubc/fig/python-operations-across-axes.png\">"
      ],
      "metadata": {
        "id": "fq9DrdoP_4QE"
      },
      "id": "fq9DrdoP_4QE"
    },
    {
      "cell_type": "code",
      "source": [
        "def compute_gradient_vectorized(X, y, w, b):\n",
        "  # YOUR CODE HERE\n",
        "  return vectorized_compute_gradient(X, y, w, b)\n"
      ],
      "metadata": {
        "id": "KQ8c2qaQ_3mm"
      },
      "id": "KQ8c2qaQ_3mm",
      "execution_count": null,
      "outputs": []
    },
    {
      "cell_type": "code",
      "source": [
        "#Compute and display gradient\n",
        "tmp_dj_db, tmp_dj_dw = compute_gradient_vectorized(X_train, y_train, w_init, b_init)\n",
        "print(f'dj_db at initial w,b: {tmp_dj_db}')\n",
        "print(f'dj_dw at initial w,b: \\n {tmp_dj_dw}')"
      ],
      "metadata": {
        "id": "V2x6ezsLB0DI",
        "colab": {
          "base_uri": "https://localhost:8080/"
        },
        "outputId": "807eceb1-ab6e-47c6-8447-f8e6e615d6e3"
      },
      "id": "V2x6ezsLB0DI",
      "execution_count": null,
      "outputs": [
        {
          "output_type": "stream",
          "name": "stdout",
          "text": [
            "dj_db at initial w,b: -290.0\n",
            "dj_dw at initial w,b: \n",
            " [-108.23 -111.67   39.29 -106.16 -111.4  -112.45  -35.69 -109.54 -112.99\n",
            "  -49.25 -111.88   39.29   15.94 -107.5 ]\n"
          ]
        }
      ]
    },
    {
      "cell_type": "markdown",
      "id": "3650ae35",
      "metadata": {
        "pycharm": {
          "name": "#%% md\n"
        },
        "id": "3650ae35"
      },
      "source": [
        "<a name=\"toc_15456_5.2\"></a>\n",
        "## 5.2 Gradient Descent With Multiple Variables\n",
        "The routine below implements equation (5) above."
      ]
    },
    {
      "cell_type": "code",
      "execution_count": null,
      "id": "462e5d1c",
      "metadata": {
        "pycharm": {
          "name": "#%%\n"
        },
        "id": "462e5d1c"
      },
      "outputs": [],
      "source": [
        "def gradient_descent(X, y, w_in, b_in, cost_function, gradient_function, alpha, num_iters):\n",
        "    \"\"\"\n",
        "    Performs batch gradient descent to learn theta. Updates theta by taking\n",
        "    num_iters gradient steps with learning rate alpha\n",
        "\n",
        "    Args:\n",
        "      X (ndarray (m,n))   : Data, m examples with n features\n",
        "      y (ndarray (m,))    : target values\n",
        "      w_in (ndarray (n,)) : initial model parameters\n",
        "      b_in (scalar)       : initial model parameter\n",
        "      cost_function       : function to compute cost\n",
        "      gradient_function   : function to compute the gradient\n",
        "      alpha (float)       : Learning rate\n",
        "      num_iters (int)     : number of iterations to run gradient descent\n",
        "\n",
        "    Returns:\n",
        "      w (ndarray (n,)) : Updated values of parameters\n",
        "      b (scalar)       : Updated value of parameter\n",
        "      \"\"\"\n",
        "\n",
        "    # An array to store cost J and w's at each iteration primarily for graphing later\n",
        "    J_history = []\n",
        "    w = copy.deepcopy(w_in)  #avoid modifying global w within function\n",
        "    b = b_in\n",
        "\n",
        "    for i in range(num_iters):\n",
        "\n",
        "        # Calculate the gradient and update the parameters\n",
        "        dj_db,dj_dw = gradient_function(X, y, w, b)   ##None\n",
        "\n",
        "        # Update Parameters using w, b, alpha and gradient\n",
        "        w = w - alpha * dj_dw               ##None\n",
        "        b = b - alpha * dj_db               ##None\n",
        "\n",
        "        # Save cost J at each iteration\n",
        "        if i<100000:      # prevent resource exhaustion\n",
        "            J_history.append( cost_function(X, y, w, b))\n",
        "\n",
        "        # Print cost every at intervals 10 times or as many iterations if < 10\n",
        "        if i% math.ceil(num_iters / 10) == 0:\n",
        "            print(f\"Iteration {i:4d}: Cost {J_history[-1]:8.2f}   \")\n",
        "\n",
        "    return w, b, J_history #return final w,b and J history for graphing"
      ]
    },
    {
      "cell_type": "markdown",
      "id": "473fe167",
      "metadata": {
        "pycharm": {
          "name": "#%% md\n"
        },
        "id": "473fe167"
      },
      "source": [
        "In the next cell you will test the provided non-vectorized  implementation."
      ]
    },
    {
      "cell_type": "code",
      "execution_count": null,
      "id": "ab87fade",
      "metadata": {
        "pycharm": {
          "name": "#%%\n"
        },
        "id": "ab87fade",
        "outputId": "5b393192-412a-42a6-b498-3b2bd45b762b",
        "colab": {
          "base_uri": "https://localhost:8080/"
        }
      },
      "outputs": [
        {
          "output_type": "stream",
          "name": "stdout",
          "text": [
            "Iteration    0: Cost 49517.89   \n",
            "Iteration  100: Cost 49506.87   \n",
            "Iteration  200: Cost 49495.86   \n",
            "Iteration  300: Cost 49484.86   \n",
            "Iteration  400: Cost 49473.87   \n",
            "Iteration  500: Cost 49462.88   \n",
            "Iteration  600: Cost 49451.90   \n",
            "Iteration  700: Cost 49440.92   \n",
            "Iteration  800: Cost 49429.95   \n",
            "Iteration  900: Cost 49418.99   \n",
            "b,w found by gradient descent: 0.14,[ 0.06  0.06 -0.02  0.06  0.06  0.06  0.02  0.06  0.06  0.03  0.06 -0.02\n",
            " -0.01  0.06] \n",
            "prediction: 0.89, target value: 460\n",
            "prediction: 0.02, target value: 232\n",
            "prediction: -0.47, target value: 178\n"
          ]
        }
      ],
      "source": [
        "# initialize parameters\n",
        "initial_w = np.zeros_like(w_init)\n",
        "initial_b = 0.\n",
        "# some gradient descent settings\n",
        "iterations = 1000\n",
        "alpha = 5.0e-7\n",
        "# run gradient descent\n",
        "w_final, b_final, J_hist = gradient_descent(X_train, y_train, initial_w, initial_b,\n",
        "                                                    compute_cost, compute_gradient,\n",
        "                                                    alpha, iterations)\n",
        "print(f\"b,w found by gradient descent: {b_final:0.2f},{w_final} \")\n",
        "m,_ = X_train.shape\n",
        "for i in range(m):\n",
        "    print(f\"prediction: {np.dot(X_train[i], w_final) + b_final:0.2f}, target value: {y_train[i]}\")"
      ]
    },
    {
      "cell_type": "code",
      "execution_count": null,
      "id": "5be4598b",
      "metadata": {
        "pycharm": {
          "name": "#%%\n"
        },
        "id": "5be4598b",
        "outputId": "bcd4c2d2-f427-438f-cbb4-916b8de154ab",
        "colab": {
          "base_uri": "https://localhost:8080/",
          "height": 428
        }
      },
      "outputs": [
        {
          "output_type": "display_data",
          "data": {
            "text/plain": [
              "<Figure size 1200x400 with 2 Axes>"
            ],
            "image/png": "[encoded data removed]"
          },
          "metadata": {}
        }
      ],
      "source": [
        "# plot cost versus iteration\n",
        "fig, (ax1, ax2) = plt.subplots(1, 2, constrained_layout=True, figsize=(12, 4))\n",
        "ax1.plot(J_hist)\n",
        "ax2.plot(100 + np.arange(len(J_hist[100:])), J_hist[100:])\n",
        "ax1.set_title(\"Cost vs. iteration\");  ax2.set_title(\"Cost vs. iteration (tail)\")\n",
        "ax1.set_ylabel('Cost')             ;  ax2.set_ylabel('Cost')\n",
        "ax1.set_xlabel('iteration step')   ;  ax2.set_xlabel('iteration step')\n",
        "plt.show()"
      ]
    },
    {
      "cell_type": "markdown",
      "id": "c5c5a44a",
      "metadata": {
        "pycharm": {
          "name": "#%% md\n"
        },
        "id": "c5c5a44a"
      },
      "source": []
    },
    {
      "cell_type": "code",
      "source": [],
      "metadata": {
        "id": "xuf0_XJCDIsa"
      },
      "id": "xuf0_XJCDIsa",
      "execution_count": null,
      "outputs": []
    },
    {
      "cell_type": "markdown",
      "source": [
        "## 5.3 Experiment with your vectorized implementation and different hyper-parameters\n",
        "\n",
        "Repeat the previous section 5 times using your vectorized gradient computation and different values for the hyper parameters(learning rate and iterations).\n",
        "\n",
        "* Try big(close to 1), small(0.000000001) and intermediate values for the lr\n",
        "* always plot the results(similar to the previous section) for every experiment"
      ],
      "metadata": {
        "id": "MF78REQnCw_K"
      },
      "id": "MF78REQnCw_K"
    },
    {
      "cell_type": "code",
      "source": [
        "# YOUR CODE HERE\n",
        "# initialize parameters\n",
        "initial_w = np.zeros_like(w_init)\n",
        "initial_b = 0.\n",
        "# some gradient descent settings\n",
        "iterations = 6000\n",
        "alpha = 5.0e-4\n",
        "# run gradient descent\n",
        "w_final, b_final, J_hist = gradient_descent(X_train, y_train, initial_w, initial_b,\n",
        "                                                    compute_cost_vectorized, compute_gradient_vectorized,\n",
        "                                                    alpha, iterations)\n",
        "print(f\"b,w found by gradient descent: {b_final:0.2f},{w_final} \")\n",
        "m,_ = X_train.shape\n",
        "for i in range(m):\n",
        "    print(f\"prediction: {np.dot(X_train[i], w_final) + b_final:0.2f}, target value: {y_train[i]}\")"
      ],
      "metadata": {
        "id": "C0O2gfMCEE4s",
        "colab": {
          "base_uri": "https://localhost:8080/"
        },
        "outputId": "29080d7a-9ac7-4fe7-8a55-8eabaca883a8"
      },
      "id": "C0O2gfMCEE4s",
      "execution_count": null,
      "outputs": [
        {
          "output_type": "stream",
          "name": "stdout",
          "text": [
            "Iteration    0: Cost 49407.98   \n",
            "Iteration  600: Cost 23129.58   \n",
            "Iteration 1200: Cost 12653.27   \n",
            "Iteration 1800: Cost  6941.08   \n",
            "Iteration 2400: Cost  3808.61   \n",
            "Iteration 3000: Cost  2089.89   \n",
            "Iteration 3600: Cost  1146.78   \n",
            "Iteration 4200: Cost   629.27   \n",
            "Iteration 4800: Cost   345.30   \n",
            "Iteration 5400: Cost   189.48   \n",
            "b,w found by gradient descent: 275.57,[12.33 13.37 -9.36 11.82 13.28 13.7   0.08 12.69 14.02  2.03 13.46 -9.36\n",
            " -6.65 12.15] \n",
            "prediction: 445.57, target value: 460\n",
            "prediction: 217.57, target value: 232\n",
            "prediction: 163.57, target value: 178\n"
          ]
        }
      ]
    },
    {
      "cell_type": "code",
      "source": [
        "# plot cost versus iteration\n",
        "fig, (ax1, ax2) = plt.subplots(1, 2, constrained_layout=True, figsize=(12, 4))\n",
        "ax1.plot(J_hist)\n",
        "ax2.plot(100 + np.arange(len(J_hist[100:])), J_hist[100:])\n",
        "ax1.set_title(\"Cost vs. iteration\");  ax2.set_title(\"Cost vs. iteration (tail)\")\n",
        "ax1.set_ylabel('Cost')             ;  ax2.set_ylabel('Cost')\n",
        "ax1.set_xlabel('iteration step')   ;  ax2.set_xlabel('iteration step')\n",
        "plt.show()"
      ],
      "metadata": {
        "colab": {
          "base_uri": "https://localhost:8080/",
          "height": 428
        },
        "id": "WrYuI2pUsSfi",
        "outputId": "b08635a2-0dd4-4d02-d00e-d66d64aeb919"
      },
      "id": "WrYuI2pUsSfi",
      "execution_count": null,
      "outputs": [
        {
          "output_type": "display_data",
          "data": {
            "text/plain": [
              "<Figure size 1200x400 with 2 Axes>"
            ],
            "image/png": "[encoded data removed]"
          },
          "metadata": {}
        }
      ]
    },
    {
      "cell_type": "markdown",
      "id": "6fc456c5",
      "metadata": {
        "pycharm": {
          "name": "#%% md\n"
        },
        "id": "6fc456c5"
      },
      "source": [
        "\n",
        "<a name=\"toc_15456_6\"></a>\n",
        "# 6 Congratulations!\n",
        "In this lab you:\n",
        "- Redeveloped the routines for linear regression, now with multiple variables.\n",
        "- Utilized NumPy `np.dot` to vectorize the implementations"
      ]
    },
    {
      "cell_type": "code",
      "execution_count": null,
      "id": "030caa1d",
      "metadata": {
        "pycharm": {
          "name": "#%%\n"
        },
        "id": "030caa1d"
      },
      "outputs": [],
      "source": []
    }
  ],
  "metadata": {
    "dl_toc_settings": {
      "rndtag": "15456"
    },
    "kernelspec": {
      "display_name": "Python 3 (ipykernel)",
      "language": "python",
      "name": "python3"
    },
    "language_info": {
      "codemirror_mode": {
        "name": "ipython",
        "version": 3
      },
      "file_extension": ".py",
      "mimetype": "text/x-python",
      "name": "python",
      "nbconvert_exporter": "python",
      "pygments_lexer": "ipython3",
      "version": "3.11.3"
    },
    "toc-autonumbering": false,
    "colab": {
      "provenance": []
    }
  },
  "nbformat": 4,
  "nbformat_minor": 5
}